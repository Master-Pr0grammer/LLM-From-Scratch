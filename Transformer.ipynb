{
 "cells": [
  {
   "cell_type": "code",
   "execution_count": null,
   "metadata": {},
   "outputs": [
    {
     "name": "stdout",
     "output_type": "stream",
     "text": [
      "Device set to cpu\n"
     ]
    }
   ],
   "source": [
    "#run imports\n",
    "import torch, time, Data, random, sys, json\n",
    "import matplotlib.pyplot as plt\n",
    "import torch.nn as nn\n",
    "from tokenizer import Tokenizer\n",
    "from moe_transformer_model import *\n",
    "torch.random.manual_seed(1)\n",
    "\n",
    "#choose device\n",
    "if torch.cuda.is_available():\n",
    "    device = torch.device(\"cuda:0\")\n",
    "else:\n",
    "    device = torch.device(\"cpu\")\n",
    "print(f'Device set to {device}')"
   ]
  },
  {
   "cell_type": "code",
   "execution_count": 2,
   "metadata": {},
   "outputs": [
    {
     "name": "stdout",
     "output_type": "stream",
     "text": [
      "character list:\n",
      "\t['\\n', ' ', '!', '$', '%', '&', '(', ')', '*', ',', '-', '.', '/', '0', '1', '2', '3', '4', '5', '6', '7', '8', '9', ':', ';', '<', '=', '>', '?', 'a', 'b', 'c', 'd', 'e', 'f', 'g', 'h', 'i', 'j', 'k', 'l', 'm', 'n', 'o', 'p', 'q', 'r', 's', 't', 'u', 'v', 'w', 'x', 'y', 'z']\n",
      "\n",
      "tensor([[43, 48,  1, 47, 33, 33, 42,  1, 48, 36, 37, 47,  1, 31, 43, 41, 37, 42,\n",
      "         35, 28,  1, 42, 43, 51,  1, 37, 41,  1, 35, 43, 42, 42, 29,  1, 36, 29,\n",
      "         50, 33,  1, 48, 43,  1, 30, 46, 33, 29, 39,  1, 48, 36, 33,  1, 40, 37,\n",
      "         48, 48, 40, 33,  1, 47, 29, 32,  1, 47, 29, 31, 39, 47,  1, 36, 33, 29,\n",
      "         46, 48, 11,  0,  0, 44, 33, 42, 42, 53, 23,  1,  1, 53, 33, 29, 36,  9,\n",
      "          1, 37, 41,  1, 47, 49, 46, 33,  1, 36, 33, 40, 40,  1, 30, 33,  1, 43,\n",
      "         39, 29, 53, 11,  0,  0, 29, 41, 53, 23,  1,  1, 43, 36,  9,  1, 44, 33,\n",
      "         42, 42]])\n",
      "tensor([[48,  1, 47, 33, 33, 42,  1, 48, 36, 37, 47,  1, 31, 43, 41, 37, 42, 35,\n",
      "         28,  1, 42, 43, 51,  1, 37, 41,  1, 35, 43, 42, 42, 29,  1, 36, 29, 50,\n",
      "         33,  1, 48, 43,  1, 30, 46, 33, 29, 39,  1, 48, 36, 33,  1, 40, 37, 48,\n",
      "         48, 40, 33,  1, 47, 29, 32,  1, 47, 29, 31, 39, 47,  1, 36, 33, 29, 46,\n",
      "         48, 11,  0,  0, 44, 33, 42, 42, 53, 23,  1,  1, 53, 33, 29, 36,  9,  1,\n",
      "         37, 41,  1, 47, 49, 46, 33,  1, 36, 33, 40, 40,  1, 30, 33,  1, 43, 39,\n",
      "         29, 53, 11,  0,  0, 29, 41, 53, 23,  1,  1, 43, 36,  9,  1, 44, 33, 42,\n",
      "         42, 53]])\n",
      "X: torch.Size([1, 128]), Y: torch.Size([1, 128])\n",
      "X: (batch size, chunk size), Y: (batch size, chunk size, num char)\n"
     ]
    }
   ],
   "source": [
    "#get data\n",
    "train_file='tbbt_train.txt'\n",
    "test_file='tbbt_test.txt'\n",
    "vocab_file = 'vocab_chars.json'\n",
    "\n",
    "file = open(vocab_file, 'r')\n",
    "vocab = json.loads(file.read())\n",
    "file.close()\n",
    "\n",
    "tokenizer = Tokenizer(vocab)\n",
    "\n",
    "data = Data.Data(train_file, test_file, tokenizer, sample_data=True)\n",
    "\n",
    "#sample data\n",
    "x, y = data.get_random_train_sample(sample_len=128, num_samples = 1)\n",
    "print(x)\n",
    "print(y)\n",
    "print(f'X: {x.shape}, Y: {y.shape}')\n",
    "print('X: (batch size, chunk size), Y: (batch size, chunk size, num char)')"
   ]
  },
  {
   "cell_type": "code",
   "execution_count": null,
   "metadata": {},
   "outputs": [
    {
     "name": "stdout",
     "output_type": "stream",
     "text": [
      "0.047167 Million Parameters\n"
     ]
    }
   ],
   "source": [
    "# Create new model with hyper parameters\n",
    "chunk_size = 64\n",
    "embedding_dim = 256 #must be some factor of heads in attention layers\n",
    "\n",
    "# Transforer Hyper parameters\n",
    "num_attention_blocks = 2\n",
    "num_heads = 4\n",
    "\n",
    "# Regularization parameters\n",
    "dropout_rate = 0.0\n",
    "#weight_decay = 1.0\n",
    "\n",
    "# Training parameters\n",
    "batch_size = 8\n",
    "learning_rate = 0.0001 #0.0001 learns fastest\n",
    "train_time = 6000 # minutes\n",
    "num_step = 15000\n",
    "\n",
    "# Training\n",
    "flatten_const = 100\n",
    "\n",
    "num_experts = 8\n",
    "\n",
    "# Create new model from hyper parameters\n",
    "model = MOE_Transformer(\n",
    "    len(tokenizer.vocab_list), \n",
    "    embedding_dim, chunk_size, \n",
    "    num_heads, \n",
    "    num_attention_blocks, \n",
    "    learning_rate, \n",
    "    num_experts,\n",
    "    dropout_rate\n",
    ").to(device)\n",
    "\n",
    "print(model.get_parameter_count(), 'Million Parameters')\n",
    "\n",
    "#model.optimizer= torch.optim.AdamW(model.parameters(), lr=learning_rate, weight_decay=weight_decay)\n",
    "cost_data, cost_it, val_data=[],[], []\n",
    "step=0"
   ]
  },
  {
   "cell_type": "code",
   "execution_count": 4,
   "metadata": {},
   "outputs": [],
   "source": [
    "#model = torch.compile(model, backend=\"eager\", mode=\"reduce-overhead\")"
   ]
  },
  {
   "cell_type": "code",
   "execution_count": 5,
   "metadata": {},
   "outputs": [],
   "source": [
    "# load saved checkpoint\n",
    "# model:Transformer = Transformer.create_from_checkpoint('Checkpoint.pth.tar', device=device).to(device)\n",
    "# cost_data = model.training_state['cost_data']\n",
    "# val_data = model.training_state['val_data']"
   ]
  },
  {
   "cell_type": "code",
   "execution_count": 6,
   "metadata": {},
   "outputs": [
    {
     "name": "stdout",
     "output_type": "stream",
     "text": [
      "Appx num steps before overfit: 42025\n"
     ]
    }
   ],
   "source": [
    "print('Appx num steps before overfit:', int(len(data._encoded_train_data)/(model.ctx_window_length+(batch_size-1))))"
   ]
  },
  {
   "cell_type": "code",
   "execution_count": 7,
   "metadata": {},
   "outputs": [
    {
     "name": "stdout",
     "output_type": "stream",
     "text": [
      "184\n"
     ]
    }
   ],
   "source": [
    "print(data.train_text.count('</ep'))"
   ]
  },
  {
   "cell_type": "code",
   "execution_count": 8,
   "metadata": {},
   "outputs": [],
   "source": [
    "batch_size = 8"
   ]
  },
  {
   "cell_type": "code",
   "execution_count": 9,
   "metadata": {},
   "outputs": [
    {
     "name": "stderr",
     "output_type": "stream",
     "text": [
      "/Users/ethanmccartney/Github/LLM-From-Scratch/model.py:94: UserWarning: Implicit dimension choice for softmax has been deprecated. Change the call to include dim=X as an argument.\n",
      "  x = nn.functional.softmax(x)\n"
     ]
    },
    {
     "name": "stdout",
     "output_type": "stream",
     "text": [
      "Step [100], Loss: 3.3561, Val Loss: 3.0900\n",
      "Step [200], Loss: 3.0353, Val Loss: 2.9972\n",
      "Step [300], Loss: 2.9155, Val Loss: 2.8078\n",
      "Step [400], Loss: 2.7142, Val Loss: 2.6244\n",
      "Step [500], Loss: 2.5960, Val Loss: 2.5310\n",
      "Step [600], Loss: 2.5291, Val Loss: 2.4795\n",
      "Step [700], Loss: 2.4999, Val Loss: 2.4770\n",
      "Step [800], Loss: 2.4498, Val Loss: 2.4428\n",
      "Step [900], Loss: 2.4388, Val Loss: 2.4160\n",
      "Step [1000], Loss: 2.4106, Val Loss: 2.3941\n",
      "Step [1100], Loss: 2.3843, Val Loss: 2.3740\n",
      "Step [1200], Loss: 2.3643, Val Loss: 2.3533\n",
      "Step [1300], Loss: 2.3556, Val Loss: 2.3171\n",
      "Step [1400], Loss: 2.3209, Val Loss: 2.3009\n",
      "Step [1500], Loss: 2.3357, Val Loss: 2.3182\n",
      "Step [1600], Loss: 2.3086, Val Loss: 2.2859\n",
      "Step [1700], Loss: 2.2935, Val Loss: 2.2890\n",
      "Step [1800], Loss: 2.2753, Val Loss: 2.2697\n",
      "Step [1900], Loss: 2.2576, Val Loss: 2.2138\n",
      "Step [2000], Loss: 2.2588, Val Loss: 2.2377\n"
     ]
    },
    {
     "ename": "KeyboardInterrupt",
     "evalue": "",
     "output_type": "error",
     "traceback": [
      "\u001b[31m---------------------------------------------------------------------------\u001b[39m",
      "\u001b[31mKeyboardInterrupt\u001b[39m                         Traceback (most recent call last)",
      "\u001b[36mCell\u001b[39m\u001b[36m \u001b[39m\u001b[32mIn[9]\u001b[39m\u001b[32m, line 16\u001b[39m\n\u001b[32m     14\u001b[39m \u001b[38;5;66;03m# Backward and optimize\u001b[39;00m\n\u001b[32m     15\u001b[39m model.optimizer.zero_grad()\n\u001b[32m---> \u001b[39m\u001b[32m16\u001b[39m \u001b[43mloss\u001b[49m\u001b[43m.\u001b[49m\u001b[43mbackward\u001b[49m\u001b[43m(\u001b[49m\u001b[43m)\u001b[49m\n\u001b[32m     17\u001b[39m model.optimizer.step()\n\u001b[32m     19\u001b[39m cost_it.append(loss.item())\n",
      "\u001b[36mFile \u001b[39m\u001b[32m~/Github/LLM-From-Scratch/.venv/lib/python3.13/site-packages/torch/_tensor.py:648\u001b[39m, in \u001b[36mTensor.backward\u001b[39m\u001b[34m(self, gradient, retain_graph, create_graph, inputs)\u001b[39m\n\u001b[32m    638\u001b[39m \u001b[38;5;28;01mif\u001b[39;00m has_torch_function_unary(\u001b[38;5;28mself\u001b[39m):\n\u001b[32m    639\u001b[39m     \u001b[38;5;28;01mreturn\u001b[39;00m handle_torch_function(\n\u001b[32m    640\u001b[39m         Tensor.backward,\n\u001b[32m    641\u001b[39m         (\u001b[38;5;28mself\u001b[39m,),\n\u001b[32m   (...)\u001b[39m\u001b[32m    646\u001b[39m         inputs=inputs,\n\u001b[32m    647\u001b[39m     )\n\u001b[32m--> \u001b[39m\u001b[32m648\u001b[39m \u001b[43mtorch\u001b[49m\u001b[43m.\u001b[49m\u001b[43mautograd\u001b[49m\u001b[43m.\u001b[49m\u001b[43mbackward\u001b[49m\u001b[43m(\u001b[49m\n\u001b[32m    649\u001b[39m \u001b[43m    \u001b[49m\u001b[38;5;28;43mself\u001b[39;49m\u001b[43m,\u001b[49m\u001b[43m \u001b[49m\u001b[43mgradient\u001b[49m\u001b[43m,\u001b[49m\u001b[43m \u001b[49m\u001b[43mretain_graph\u001b[49m\u001b[43m,\u001b[49m\u001b[43m \u001b[49m\u001b[43mcreate_graph\u001b[49m\u001b[43m,\u001b[49m\u001b[43m \u001b[49m\u001b[43minputs\u001b[49m\u001b[43m=\u001b[49m\u001b[43minputs\u001b[49m\n\u001b[32m    650\u001b[39m \u001b[43m\u001b[49m\u001b[43m)\u001b[49m\n",
      "\u001b[36mFile \u001b[39m\u001b[32m~/Github/LLM-From-Scratch/.venv/lib/python3.13/site-packages/torch/autograd/__init__.py:353\u001b[39m, in \u001b[36mbackward\u001b[39m\u001b[34m(tensors, grad_tensors, retain_graph, create_graph, grad_variables, inputs)\u001b[39m\n\u001b[32m    348\u001b[39m     retain_graph = create_graph\n\u001b[32m    350\u001b[39m \u001b[38;5;66;03m# The reason we repeat the same comment below is that\u001b[39;00m\n\u001b[32m    351\u001b[39m \u001b[38;5;66;03m# some Python versions print out the first line of a multi-line function\u001b[39;00m\n\u001b[32m    352\u001b[39m \u001b[38;5;66;03m# calls in the traceback and some print out the last line\u001b[39;00m\n\u001b[32m--> \u001b[39m\u001b[32m353\u001b[39m \u001b[43m_engine_run_backward\u001b[49m\u001b[43m(\u001b[49m\n\u001b[32m    354\u001b[39m \u001b[43m    \u001b[49m\u001b[43mtensors\u001b[49m\u001b[43m,\u001b[49m\n\u001b[32m    355\u001b[39m \u001b[43m    \u001b[49m\u001b[43mgrad_tensors_\u001b[49m\u001b[43m,\u001b[49m\n\u001b[32m    356\u001b[39m \u001b[43m    \u001b[49m\u001b[43mretain_graph\u001b[49m\u001b[43m,\u001b[49m\n\u001b[32m    357\u001b[39m \u001b[43m    \u001b[49m\u001b[43mcreate_graph\u001b[49m\u001b[43m,\u001b[49m\n\u001b[32m    358\u001b[39m \u001b[43m    \u001b[49m\u001b[43minputs\u001b[49m\u001b[43m,\u001b[49m\n\u001b[32m    359\u001b[39m \u001b[43m    \u001b[49m\u001b[43mallow_unreachable\u001b[49m\u001b[43m=\u001b[49m\u001b[38;5;28;43;01mTrue\u001b[39;49;00m\u001b[43m,\u001b[49m\n\u001b[32m    360\u001b[39m \u001b[43m    \u001b[49m\u001b[43maccumulate_grad\u001b[49m\u001b[43m=\u001b[49m\u001b[38;5;28;43;01mTrue\u001b[39;49;00m\u001b[43m,\u001b[49m\n\u001b[32m    361\u001b[39m \u001b[43m\u001b[49m\u001b[43m)\u001b[49m\n",
      "\u001b[36mFile \u001b[39m\u001b[32m~/Github/LLM-From-Scratch/.venv/lib/python3.13/site-packages/torch/autograd/graph.py:824\u001b[39m, in \u001b[36m_engine_run_backward\u001b[39m\u001b[34m(t_outputs, *args, **kwargs)\u001b[39m\n\u001b[32m    822\u001b[39m     unregister_hooks = _register_logging_hooks_on_whole_graph(t_outputs)\n\u001b[32m    823\u001b[39m \u001b[38;5;28;01mtry\u001b[39;00m:\n\u001b[32m--> \u001b[39m\u001b[32m824\u001b[39m     \u001b[38;5;28;01mreturn\u001b[39;00m \u001b[43mVariable\u001b[49m\u001b[43m.\u001b[49m\u001b[43m_execution_engine\u001b[49m\u001b[43m.\u001b[49m\u001b[43mrun_backward\u001b[49m\u001b[43m(\u001b[49m\u001b[43m  \u001b[49m\u001b[38;5;66;43;03m# Calls into the C++ engine to run the backward pass\u001b[39;49;00m\n\u001b[32m    825\u001b[39m \u001b[43m        \u001b[49m\u001b[43mt_outputs\u001b[49m\u001b[43m,\u001b[49m\u001b[43m \u001b[49m\u001b[43m*\u001b[49m\u001b[43margs\u001b[49m\u001b[43m,\u001b[49m\u001b[43m \u001b[49m\u001b[43m*\u001b[49m\u001b[43m*\u001b[49m\u001b[43mkwargs\u001b[49m\n\u001b[32m    826\u001b[39m \u001b[43m    \u001b[49m\u001b[43m)\u001b[49m  \u001b[38;5;66;03m# Calls into the C++ engine to run the backward pass\u001b[39;00m\n\u001b[32m    827\u001b[39m \u001b[38;5;28;01mfinally\u001b[39;00m:\n\u001b[32m    828\u001b[39m     \u001b[38;5;28;01mif\u001b[39;00m attach_logging_hooks:\n",
      "\u001b[31mKeyboardInterrupt\u001b[39m: "
     ]
    }
   ],
   "source": [
    "# Train Model\n",
    "model.train()\n",
    "start=time.time()\n",
    "\n",
    "while(time.time()-start<60*train_time):\n",
    "    step+=1\n",
    "    x_train, y_train= data.get_random_train_sample(model.ctx_window_length, batch_size)\n",
    "    x_train = x_train.to(device)\n",
    "    y_train = y_train.to(device)\n",
    "\n",
    "    # Forward pass\n",
    "    outputs, loss = model(x_train, y_train)\n",
    "\n",
    "    # Backward and optimize\n",
    "    model.optimizer.zero_grad()\n",
    "    loss.backward()\n",
    "    model.optimizer.step()\n",
    "\n",
    "    cost_it.append(loss.item())\n",
    "\n",
    "\n",
    "    #flatten graph data\n",
    "    if (step + 1) % flatten_const == 0:\n",
    "        cost_data.append(torch.tensor(cost_it).mean().item())\n",
    "        cost_it=[]\n",
    "\n",
    "    #print update\n",
    "    if (step + 1) % flatten_const == 0:\n",
    "        \n",
    "        # Run test set\n",
    "        model.eval()\n",
    "        test_batch_size=64\n",
    "        with torch.no_grad():\n",
    "            x, y = data.get_random_test_sample(model.ctx_window_length, test_batch_size)\n",
    "            x=x.to(device)\n",
    "            y=y.to(device)\n",
    "            outputs, val_loss = model(x, y)\n",
    "            val_data.append(val_loss.item())\n",
    "        model.train()\n",
    "        \n",
    "        # Save if new best\n",
    "        if len(val_data)==1 or val_data[-1]<min(val_data[:-1]):\n",
    "            model.save_checkpoint('Best_Checkpoint.pth.tar', training_state={'cost_data':cost_data, 'val_data':val_data})\n",
    "\n",
    "        torch.cuda.empty_cache()\n",
    "        print(f\"Step [{step+1}], Loss: {cost_data[-1]:.4f}, Val Loss: {val_data[-1]:.4f}\")\n",
    "\n",
    "    if (step + 1) % 5000 == 0:\n",
    "        model.save_checkpoint('Checkpoint.pth.tar', training_state={'cost_data':cost_data, 'val_data':val_data})\n",
    "        print('Saved Checkpoint')\n",
    "\n",
    "print(step)\n",
    "\n",
    "torch.cuda.empty_cache()"
   ]
  },
  {
   "cell_type": "code",
   "execution_count": null,
   "metadata": {},
   "outputs": [
    {
     "data": {
      "image/png": "[encoded data removed]",
      "text/plain": [
       "<Figure size 640x480 with 1 Axes>"
      ]
     },
     "metadata": {},
     "output_type": "display_data"
    },
    {
     "name": "stdout",
     "output_type": "stream",
     "text": [
      "1.9381012916564941\n"
     ]
    }
   ],
   "source": [
    "# Plot training data\n",
    "plt.plot(torch.arange(0, len(cost_data))*flatten_const, cost_data, label='Training loss')\n",
    "#plt.plot(torch.arange(800, len(cost_data))*flatten_const, cost_data[800:], label='Training loss')\n",
    "#plt.plot((torch.arange(0, len(val_data))+len(cost_data)-len(val_data))*flatten_const, val_data, label='Validation loss')\n",
    "plt.xlabel('Number of Steps')\n",
    "plt.ylabel('Average Loss')\n",
    "plt.title('Average Loss vs Step')\n",
    "plt.legend()\n",
    "plt.show()\n",
    "\n",
    "print(min(val_data))"
   ]
  },
  {
   "cell_type": "code",
   "execution_count": null,
   "metadata": {},
   "outputs": [],
   "source": [
    "# Run full test set\n",
    "model.eval()\n",
    "test_loss_list=[]\n",
    "test_batch_size=64\n",
    "start = time.time()\n",
    "with torch.no_grad():\n",
    "    for i in range((len(data.test_text)-len(tokenizer.vocab_list)-1)//test_batch_size):\n",
    "        x, y = data.get_test_sample(i*test_batch_size, model.ctx_window_length, test_batch_size)\n",
    "        x=x.to(device)\n",
    "        y=y.to(device)\n",
    "        outputs, loss = model(x, y)\n",
    "        test_loss_list.append(loss)\n",
    "\n",
    "        torch.cuda.empty_cache()\n",
    "        print(f'Step [{i}/{(len(data.test_text)-len(tokenizer.vocab_list))//test_batch_size}, Loss: {loss.item()}]')\n",
    "val_loss=torch.tensor(test_loss_list).mean().item()\n",
    "print(f'Validation Loss: {val_loss}, Test Time: {time.time() - start}')\n",
    "\n",
    "torch.cuda.empty_cache()"
   ]
  },
  {
   "cell_type": "code",
   "execution_count": null,
   "metadata": {},
   "outputs": [],
   "source": [
    "val_loss=torch.tensor(test_loss_list).mean().item()\n",
    "print(f'Validation Loss: {val_loss}, Test Time: {time.time() - start}')"
   ]
  },
  {
   "cell_type": "code",
   "execution_count": null,
   "metadata": {},
   "outputs": [
    {
     "name": "stdout",
     "output_type": "stream",
     "text": [
      "\"\n",
      "\n",
      "\n",
      "\n",
      "\n",
      "\n",
      "\n",
      "leound: meoscowe: perl:  t an: t oweverd ce ici nold:  yorine le areelabiming h bessou sinn tt paret?\n",
      "\n",
      "\n",
      "lele ttel  thin, teyo bininint cereasenar s d: aseatt fute me s fous ne d arthacis y.\n",
      "\n",
      "\n",
      "\n",
      "rinne sourdousid ky anyokedorere gr an: cowa y: it. tourd ntourme ile wa me p tth me yous?\n",
      "panar  thowang anarana sere astand d hethenoushelelle the o .\n",
      "\n",
      "\n",
      "\n",
      "\n",
      "\n",
      "live anocong dud:  k. apie hinyons, tothok yonononth amamet ar our  u hit t \n",
      "\n",
      "\n",
      "\n",
      "pasonturdonon: telidestherd:  t, yidoulelioveld: mi onard:     inou  whel  ith thou thele youd: mi bo iniru wowan ig bame be es  we out rila cathinef tourinmy i?\n",
      "lde cane mite tonafis d the.\n",
      "pure. brdos be: ip, gowarllldinent ad  s merare be t besowoul?\n",
      "\n",
      "ld yale, y, le: t bhily weshaj: aey wape dit, oneag.\n",
      "\n",
      "inonanotedona t wheve   frd me lst h youle?\n",
      "sthinelid sor inn.  be thourid douleond inon y.\n",
      "l, iwo p gre owe co acane in  le unke. averelihour.\n",
      "\n",
      "\n",
      "\n",
      "\n",
      "\n",
      "\n",
      "stonetovesayowaldery n:  heldis in: he  in fdokong inon n, ar couthe t theos, whoris uth j: d yori  sto\"\n",
      "\n",
      "[Perplexity of generated text: 8.536]\n"
     ]
    }
   ],
   "source": [
    "# LLM Inference\n",
    "\n",
    "def sample_with_temp(probs, temperature=1.0, top_k=None):\n",
    "    # Apply temperature scaling\n",
    "    if temperature != 1.0:\n",
    "        probs = probs ** (1.0 / temperature)\n",
    "    probs = probs / probs.sum()  # Re-normalize\n",
    "\n",
    "    if top_k is not None:\n",
    "        # Get top-k probabilities and their indices\n",
    "        top_probs, top_indices = torch.topk(probs, top_k)\n",
    "        top_probs = top_probs / top_probs.sum()\n",
    "        sampled_index = torch.multinomial(top_probs, num_samples=1)\n",
    "        return top_indices[sampled_index].item()\n",
    "    else:\n",
    "        return torch.multinomial(probs, num_samples=1).item()\n",
    "\n",
    "# Begin generation\n",
    "model.eval()\n",
    "tokens = data._encoded_train_data[-model.ctx_window_length:]\n",
    "text = data.train_text[0:model.ctx_window_length]\n",
    "print('\"', end='', sep='')\n",
    "\n",
    "\n",
    "# text = \"\"\"<episode>\n",
    "# scene:  a corridor at a sperm bank.\n",
    "\n",
    "# sheldon:  so if a photon is directed through a plane with two slits in it and either slit is observed it will not go through both slits. I think this is very interesting to think about when I am bored. i thought this delay was so you could watch tv with your mother.\n",
    "\n",
    "# sheldon:  leonard, i need you to answer this, what is 1 plus 1?\n",
    "\n",
    "# leonard:  when you add 1 plus 1 you get \"\"\".lower()[-data.ctx_size:]\n",
    "\n",
    "# tokens = tokenizer.encode(text)\n",
    "\n",
    "\n",
    "total_log_prob = 0.0\n",
    "n_tokens = 0\n",
    "\n",
    "# Sampling config\n",
    "TEMPERATURE = 0.8\n",
    "TOP_K = 40\n",
    "\n",
    "with torch.no_grad():\n",
    "    for i in range(1000):\n",
    "        # Generate input\n",
    "        x = torch.tensor(tokens[-model.ctx_window_length:]).to(device)\n",
    "        x = x.reshape((1, model.ctx_window_length))\n",
    "\n",
    "        # Model forward\n",
    "        output = model(x)  # shape: (1, T, vocab_size)\n",
    "        output = output.view((model.ctx_window_length, len(tokenizer.vocab_list)))  # Flattening, okay here\n",
    "        logits = output[-1]  # Last token's prediction\n",
    "\n",
    "        # Convert to probabilities\n",
    "        probs = nn.functional.softmax(logits, dim=-1)\n",
    "\n",
    "        # Sample a token\n",
    "        #sampled_token = torch.multinomial(probs, num_samples=1).item()\n",
    "        sampled_token = sample_with_temp(probs, temperature=TEMPERATURE, top_k=TOP_K)\n",
    "        tokens.append(sampled_token)\n",
    "\n",
    "        # Track log probability\n",
    "        log_prob = torch.log(probs[sampled_token])\n",
    "        total_log_prob += log_prob.item()\n",
    "        n_tokens += 1\n",
    "\n",
    "        # Decode and print\n",
    "        char = tokenizer.decode([sampled_token])[0]\n",
    "        text += char\n",
    "        print(char, end='', sep='')\n",
    "        sys.stdout.flush()\n",
    "\n",
    "print('\"\\n', sep='')\n",
    "\n",
    "# Compute and print perplexity\n",
    "import math\n",
    "perplexity = math.exp(-total_log_prob / n_tokens)\n",
    "print(f\"[Perplexity of generated text: {perplexity:.3f}]\")\n"
   ]
  }
 ],
 "metadata": {
  "kernelspec": {
   "display_name": ".venv",
   "language": "python",
   "name": "python3"
  },
  "language_info": {
   "codemirror_mode": {
    "name": "ipython",
    "version": 3
   },
   "file_extension": ".py",
   "mimetype": "text/x-python",
   "name": "python",
   "nbconvert_exporter": "python",
   "pygments_lexer": "ipython3",
   "version": "3.13.5"
  },
  "orig_nbformat": 4
 },
 "nbformat": 4,
 "nbformat_minor": 2
}
